{
 "cells": [
  {
   "cell_type": "code",
   "execution_count": null,
   "id": "09699f57-cfd8-4838-a5ba-649ddad39b28",
   "metadata": {},
   "outputs": [],
   "source": [
    "import requests\n",
    "from bs4 import BeautifulSoup\n",
    "import re\n",
    "\n",
    "# Dictionary to map emotions to IMDb URLs\n",
    "URLS = {\n",
    "    \"Drama\": 'https://www.imdb.com/search/title/?title_type=feature&genres=drama',\n",
    "    \"Action\": 'https://www.imdb.com/search/title/?title_type=feature&genres=action',\n",
    "    \"Comedy\": 'https://www.imdb.com/search/title/?title_type=feature&genres=comedy',\n",
    "    \"Horror\": 'https://www.imdb.com/search/title/?title_type=feature&genres=horror',\n",
    "    \"Crime\": 'https://www.imdb.com/search/title/?title_type=feature&genres=crime',\n",
    "}\n",
    "\n",
    "def main(emotion):\n",
    "    url = URLS.get(emotion)\n",
    "    print(\"ok\", url)\n",
    "    if not url:\n",
    "        print(\"Invalid emotion.\")\n",
    "        return []\n",
    "\n",
    "    headers = {\n",
    "    'User-Agent':\n",
    "    'Mozilla/5.0 (Windows NT 10.0; Win64; x64) AppleWebKit/537.36 (KHTML, like Gecko) Chrome/91.0.4472.124 Safari/537.36'\n",
    "}\n",
    "\n",
    "    try:\n",
    "        response = requests.get(url, headers=headers)\n",
    "        response.raise_for_status()  # Check for HTTP errors\n",
    "    except requests.RequestException as e:\n",
    "        print(f\"Error fetching data: {e}\")\n",
    "        return []\n",
    "\n",
    "    soup = BeautifulSoup(response.text, \"lxml\")\n",
    "\n",
    "    # Extract movie titles\n",
    "    titles = [a.get_text() for a in soup.find_all('a', href=re.compile(r'/title/tt\\d+/'))]\n",
    "    return titles\n",
    "\n",
    "# Driver Function\n",
    "if __name__ == '__main__':\n",
    "    emotion = input(\"Enter the emotion: \").strip()\n",
    "    movie_titles = main(emotion)\n",
    "\n",
    "    if not movie_titles:\n",
    "        print(\"No titles found.\")\n",
    "    else:\n",
    "        max_titles = 14 if emotion in [\"Drama\", \"Action\", \"Comedy\", \"Horror\", \"Crime\"] else 12\n",
    "        for title in movie_titles[:max_titles]:\n",
    "            print(title)\n"
   ]
  },
  {
   "cell_type": "code",
   "execution_count": null,
   "id": "0e6483f2-242e-4822-bd36-9d133c7656e7",
   "metadata": {},
   "outputs": [],
   "source": []
  }
 ],
 "metadata": {
  "kernelspec": {
   "display_name": "Python 3 (ipykernel)",
   "language": "python",
   "name": "python3"
  },
  "language_info": {
   "codemirror_mode": {
    "name": "ipython",
    "version": 3
   },
   "file_extension": ".py",
   "mimetype": "text/x-python",
   "name": "python",
   "nbconvert_exporter": "python",
   "pygments_lexer": "ipython3",
   "version": "3.11.7"
  }
 },
 "nbformat": 4,
 "nbformat_minor": 5
}
